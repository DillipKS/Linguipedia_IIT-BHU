{
  "nbformat": 4,
  "nbformat_minor": 0,
  "metadata": {
    "colab": {
      "name": "Linguipedia_challenge.ipynb",
      "version": "0.3.2",
      "provenance": [],
      "collapsed_sections": [],
      "include_colab_link": true
    },
    "kernelspec": {
      "name": "python3",
      "display_name": "Python 3"
    }
  },
  "cells": [
    {
      "cell_type": "markdown",
      "metadata": {
        "id": "view-in-github",
        "colab_type": "text"
      },
      "source": [
        "[View in Colaboratory](https://colab.research.google.com/github/DillipKS/Linguipedia_IIT-BHU/blob/master/Linguipedia_challenge.ipynb)"
      ]
    },
    {
      "metadata": {
        "id": "IJP3h4Uj1CPd",
        "colab_type": "code",
        "colab": {}
      },
      "cell_type": "code",
      "source": [
        "from __future__ import print_function\n",
        "\n",
        "from IPython import display\n",
        "from matplotlib import cm, gridspec, pyplot as plt\n",
        "\n",
        "import numpy as np\n",
        "import pandas as pd\n",
        "import tensorflow as tf\n",
        "from tensorflow.python.data import Dataset\n",
        "\n",
        "tf.logging.set_verbosity(tf.logging.ERROR)\n",
        "pd.options.display.max_rows = 10\n",
        "pd.options.display.float_format = '{:.1f}'.format"
      ],
      "execution_count": 0,
      "outputs": []
    },
    {
      "metadata": {
        "id": "y3qttSDM41Ym",
        "colab_type": "code",
        "colab": {
          "base_uri": "https://localhost:8080/",
          "height": 54
        },
        "outputId": "89a8bb9c-e9cd-462e-b5bf-dc778fda3708"
      },
      "cell_type": "code",
      "source": [
        "!pip install -U -q gensim\n",
        "\n",
        "import re, nltk, time, math\n",
        "import gensim, csv, pickle\n",
        "from nltk.corpus import stopwords\n",
        "\n",
        "from sklearn.feature_extraction.text import TfidfVectorizer\n",
        "from sklearn.metrics import accuracy_score, f1_score\n",
        "from sklearn import linear_model, metrics\n",
        "\n",
        "nltk.download('stopwords')\n",
        "stop_words = set(stopwords.words('english'))"
      ],
      "execution_count": 2,
      "outputs": [
        {
          "output_type": "stream",
          "text": [
            "[nltk_data] Downloading package stopwords to /root/nltk_data...\n",
            "[nltk_data]   Unzipping corpora/stopwords.zip.\n"
          ],
          "name": "stdout"
        }
      ]
    },
    {
      "metadata": {
        "id": "pTo5NJ3T10n4",
        "colab_type": "code",
        "colab": {
          "base_uri": "https://localhost:8080/",
          "height": 36
        },
        "outputId": "d58341a8-ac4f-4a9e-8c05-32724018a3a8"
      },
      "cell_type": "code",
      "source": [
        "!pip install -U -q PyDrive\n",
        "!pip install -U -q xlrd\n",
        "!pip install --upgrade pip\n",
        "\n",
        "from google.colab import files\n",
        "from pydrive.auth import GoogleAuth\n",
        "from pydrive.drive import GoogleDrive\n",
        "from google.colab import auth\n",
        "from oauth2client.client import GoogleCredentials"
      ],
      "execution_count": 3,
      "outputs": [
        {
          "output_type": "stream",
          "text": [
            "Requirement already up-to-date: pip in /usr/local/lib/python3.6/dist-packages (18.0)\r\n"
          ],
          "name": "stdout"
        }
      ]
    },
    {
      "metadata": {
        "id": "91bnEw_o144m",
        "colab_type": "code",
        "colab": {}
      },
      "cell_type": "code",
      "source": [
        "# Code to read csv file from Google Drive into colaboratory:\n",
        "\n",
        "#1. Authenticate and create the PyDrive client.\n",
        "auth.authenticate_user()\n",
        "gauth = GoogleAuth()\n",
        "gauth.credentials = GoogleCredentials.get_application_default()\n",
        "drive = GoogleDrive(gauth)\n",
        "\n",
        "#2. Get the file\n",
        "downloaded = drive.CreateFile({'id':'1zssTCHlSKrTj54zi_5uyBqmwIaG3CBUr'})   # replace the id with id of file you want to access\n",
        "downloaded.GetContentFile('test.csv')  \n",
        "\n",
        "#3. Read file as panda dataframe\n",
        "test_df = pd.read_csv('test.csv') \n",
        "\n",
        "downloaded = drive.CreateFile({'id':'1OvgF_veQ9fUbz4JYp0Kg5SJyHg90cwz1'})\n",
        "downloaded.GetContentFile('train.csv')  \n",
        "train_df = pd.read_csv('train.csv')"
      ],
      "execution_count": 0,
      "outputs": []
    },
    {
      "metadata": {
        "id": "ti0_CQt12gmF",
        "colab_type": "code",
        "colab": {
          "base_uri": "https://localhost:8080/",
          "height": 129
        },
        "outputId": "213a8b2e-ca84-4e7e-ae4c-2a01214b74b0"
      },
      "cell_type": "code",
      "source": [
        "#Visualise training data\n",
        "\n",
        "print(train_df.head())"
      ],
      "execution_count": 5,
      "outputs": [
        {
          "output_type": "stream",
          "text": [
            "   id  label                                              tweet\n",
            "0   1      0  #fingerprint #Pregnancy Test https://goo.gl/h1...\n",
            "1   2      0  Finally a transparant silicon case ^^ Thanks t...\n",
            "2   3      0  We love this! Would you go? #talk #makememorie...\n",
            "3   4      0  I'm wired I know I'm George I was made that wa...\n",
            "4   5      1  What amazing service! Apple won't even talk to...\n"
          ],
          "name": "stdout"
        }
      ]
    },
    {
      "metadata": {
        "id": "BnNqVC7f_soc",
        "colab_type": "code",
        "colab": {
          "base_uri": "https://localhost:8080/",
          "height": 366
        },
        "outputId": "f6ddf98e-d572-4abb-cd8c-57a57d6095dc"
      },
      "cell_type": "code",
      "source": [
        "train_df['label'].hist()"
      ],
      "execution_count": 6,
      "outputs": [
        {
          "output_type": "execute_result",
          "data": {
            "text/plain": [
              "<matplotlib.axes._subplots.AxesSubplot at 0x7f79a4f654e0>"
            ]
          },
          "metadata": {
            "tags": []
          },
          "execution_count": 6
        },
        {
          "output_type": "display_data",
          "data": {
            "image/png": "[encoded data removed]",
            "text/plain": [
              "<matplotlib.figure.Figure at 0x7f79a506cd68>"
            ]
          },
          "metadata": {
            "tags": []
          }
        }
      ]
    },
    {
      "metadata": {
        "id": "2QgxhG_K21_u",
        "colab_type": "code",
        "colab": {}
      },
      "cell_type": "code",
      "source": [
        "def preprocess(dataframe):\n",
        "    '''\n",
        "    Preprocess the tweets in train.csv and store it into a csv file with ID and Label\n",
        "    '''\n",
        "    columns=['id','label', 'tweet']    \n",
        "    tweets = []\n",
        "    \n",
        "    for row in dataframe.itertuples(index=True, name='Pandas'):\n",
        "        mystring = re.sub('[^A-Za-z]+', ' ', row[3])\n",
        "        text = ' '.join([word.lower() for word in mystring.split() if word not in stop_words and len(word)>=2])\n",
        "        tweets.append((row[1], row[2], text))\n",
        "    \n",
        "    tweets_df = pd.DataFrame.from_records(tweets, columns=columns)\n",
        "    tweets_df.to_csv('tweets_clean.csv', index=False)\n",
        "    files.download('tweets_clean.csv')\n",
        "    \n",
        "    return tweets_df"
      ],
      "execution_count": 0,
      "outputs": []
    },
    {
      "metadata": {
        "id": "nvBcBYE0G0KO",
        "colab_type": "code",
        "colab": {}
      },
      "cell_type": "code",
      "source": [
        "def test_preprocess(dataframe):\n",
        "    '''\n",
        "    Preprocess the tweets in test.csv and store it into a csv file with ID and Label\n",
        "    '''\n",
        "    columns=['id', 'tweet']\n",
        "    tweets = []\n",
        "    for row in dataframe.itertuples(index=True, name='Pandas'):\n",
        "        mystring = re.sub('[^A-Za-z]+', ' ', row[2])\n",
        "        text = ' '.join([word.lower() for word in mystring.split() if word not in stop_words and len(word)>=2])\n",
        "        tweets.append((row[1], text))\n",
        "    \n",
        "    tweets_df = pd.DataFrame.from_records(tweets, columns=columns)\n",
        "    tweets_df.to_csv('tweets_test.csv', index=False)\n",
        "    files.download('tweets_test.csv')\n",
        "    \n",
        "    return tweets_df"
      ],
      "execution_count": 0,
      "outputs": []
    },
    {
      "metadata": {
        "id": "Cp6DjjeEJaeb",
        "colab_type": "code",
        "colab": {}
      },
      "cell_type": "code",
      "source": [
        "def test_data_prediction(X_new, ID_test):\n",
        "    '''\n",
        "    Predict the class labels for held out test data and print into a csv file\n",
        "    '''\n",
        "    X_new_vec = vectorizer.transform(X_new)\n",
        "    pred = logreg.predict(X_new_vec)\n",
        "\n",
        "    columns=['id', 'label']\n",
        "    predictions = []\n",
        "    for i in range(len(ID_test)):\n",
        "        predictions.append((ID_test[i], pred[i]))\n",
        "\n",
        "    pred_df = pd.DataFrame.from_records(predictions, columns=columns)\n",
        "    pred_df.to_csv('submission.csv', index=False)\n",
        "    files.download('submission.csv')\n",
        "    "
      ],
      "execution_count": 0,
      "outputs": []
    },
    {
      "metadata": {
        "id": "qZBCDdWeJd7N",
        "colab_type": "code",
        "colab": {}
      },
      "cell_type": "code",
      "source": [
        ""
      ],
      "execution_count": 0,
      "outputs": []
    },
    {
      "metadata": {
        "id": "EcVigwQs9RNm",
        "colab_type": "code",
        "colab": {
          "base_uri": "https://localhost:8080/",
          "height": 54
        },
        "outputId": "06d90ac7-14c8-49f5-9cee-92edf4059641"
      },
      "cell_type": "code",
      "source": [
        "print('Data processing')\n",
        "start = time.time()\n",
        "\n",
        "tweets_df = preprocess(train_df)\n",
        "tweets_df = tweets_df.reindex(np.random.permutation(tweets_df.index))\n",
        "Y = tweets_df.loc[:, 'label']\n",
        "X = tweets_df.loc[:, 'tweet']\n",
        "\n",
        "end = time.time()\n",
        "print(end-start)"
      ],
      "execution_count": 10,
      "outputs": [
        {
          "output_type": "stream",
          "text": [
            "Data processing\n",
            "3.3041350841522217\n"
          ],
          "name": "stdout"
        }
      ]
    },
    {
      "metadata": {
        "id": "jotxJQFd-5hp",
        "colab_type": "code",
        "colab": {
          "base_uri": "https://localhost:8080/",
          "height": 241
        },
        "outputId": "29ac989e-8cfa-4bd4-eeb6-fffa4b8dcf5e"
      },
      "cell_type": "code",
      "source": [
        "print(X.head())\n",
        "print(Y.head())"
      ],
      "execution_count": 11,
      "outputs": [
        {
          "output_type": "stream",
          "text": [
            "7101    hey samsung galaxy new phone whitefrost galaxy...\n",
            "7801    happy new year beaver eggtooth http newsdict j...\n",
            "6905              living phone lifestyle do not recommend\n",
            "4942    samsung iii samsung smartphone nice cool good ...\n",
            "4158    next yr watching apple cup everett washington ...\n",
            "Name: tweet, dtype: object\n",
            "7101    0\n",
            "7801    0\n",
            "6905    1\n",
            "4942    0\n",
            "4158    0\n",
            "Name: label, dtype: int64\n"
          ],
          "name": "stdout"
        }
      ]
    },
    {
      "metadata": {
        "id": "rc0JHKbv7-WP",
        "colab_type": "code",
        "colab": {
          "base_uri": "https://localhost:8080/",
          "height": 54
        },
        "outputId": "1f24cc58-53b3-4118-b5cf-fcd3c8712af8"
      },
      "cell_type": "code",
      "source": [
        "split_per = 0.75    # Training-Test split ratio\n",
        "num_ex = len(Y)\n",
        "split = int(split_per * num_ex)\n",
        "\n",
        "print('TF-IDF embeddings')\n",
        "start = time.time()\n",
        "\n",
        "vectorizer = TfidfVectorizer(max_features=8000)\n",
        "tf_idf_matrix = vectorizer.fit_transform(X)\n",
        "#pickle.dump(tf_idf_matrix, open(\"tfidf_feature.pkl\",\"wb\"))\n",
        "\n",
        "end = time.time()\n",
        "print(end-start)"
      ],
      "execution_count": 12,
      "outputs": [
        {
          "output_type": "stream",
          "text": [
            "TF-IDF embeddings\n",
            "0.17155838012695312\n"
          ],
          "name": "stdout"
        }
      ]
    },
    {
      "metadata": {
        "id": "F4j8BTXvDngS",
        "colab_type": "code",
        "colab": {
          "base_uri": "https://localhost:8080/",
          "height": 54
        },
        "outputId": "98e3742e-f521-4d0c-d914-c59ef493839c"
      },
      "cell_type": "code",
      "source": [
        "print('Logistic Regression model training')\n",
        "start = time.time()\n",
        "\n",
        "X_train = tf_idf_matrix[:split]\n",
        "X_test = tf_idf_matrix[split:]\n",
        "Y_train, Y_test = Y[:split], Y[split:]\n",
        "\n",
        "logreg = linear_model.LogisticRegression(C=1)         # C = Regularization coefficient\n",
        "logreg.fit(X_train,Y_train)\n",
        "#pickle.dump(logreg, open(\"logreg_model.pkl\",\"wb\"))\n",
        "\n",
        "end = time.time()\n",
        "print(end-start)\n"
      ],
      "execution_count": 13,
      "outputs": [
        {
          "output_type": "stream",
          "text": [
            "Logistic Regression model training\n",
            "0.023395538330078125\n"
          ],
          "name": "stdout"
        }
      ]
    },
    {
      "metadata": {
        "id": "C4wwu3oKECNF",
        "colab_type": "code",
        "colab": {
          "base_uri": "https://localhost:8080/",
          "height": 73
        },
        "outputId": "ca19d535-0ee9-40fa-f1d7-e2e32c59b54f"
      },
      "cell_type": "code",
      "source": [
        "print('Prediction')\n",
        "\n",
        "pred_train = logreg.predict(X_train)\n",
        "pred_test = logreg.predict(X_test)\n",
        "\n",
        "# Weighted F1 score\n",
        "accuracy_train = f1_score(Y_train, pred_train, average='weighted')\n",
        "accuracy_test = f1_score(Y_test, pred_test, average='weighted')\n",
        "\n",
        "print(\"Training Weighted F1 score: %s\" % accuracy_train)\n",
        "print(\"Test Weighted F1 score: %s\" % accuracy_test)"
      ],
      "execution_count": 14,
      "outputs": [
        {
          "output_type": "stream",
          "text": [
            "Prediction\n",
            "Training Weighted F1 score: 0.929607713038949\n",
            "Test Weighted F1 score: 0.8979502343884932\n"
          ],
          "name": "stdout"
        }
      ]
    },
    {
      "metadata": {
        "id": "nktF2St8EUqQ",
        "colab_type": "code",
        "colab": {
          "base_uri": "https://localhost:8080/",
          "height": 366
        },
        "outputId": "63ec096d-59e5-4ca5-9cf8-173a780ae6b7"
      },
      "cell_type": "code",
      "source": [
        "print(Y_train.hist())"
      ],
      "execution_count": 15,
      "outputs": [
        {
          "output_type": "stream",
          "text": [
            "AxesSubplot(0.125,0.125;0.775x0.755)\n"
          ],
          "name": "stdout"
        },
        {
          "output_type": "display_data",
          "data": {
            "image/png": "[encoded data removed]",
            "text/plain": [
              "<matplotlib.figure.Figure at 0x7f79a4b735f8>"
            ]
          },
          "metadata": {
            "tags": []
          }
        }
      ]
    },
    {
      "metadata": {
        "id": "3JnzoN8rFsFo",
        "colab_type": "code",
        "colab": {
          "base_uri": "https://localhost:8080/",
          "height": 366
        },
        "outputId": "2d91bfb0-5cdc-483a-fec9-21470c2b7490"
      },
      "cell_type": "code",
      "source": [
        "print(Y_test.hist())"
      ],
      "execution_count": 16,
      "outputs": [
        {
          "output_type": "stream",
          "text": [
            "AxesSubplot(0.125,0.125;0.775x0.755)\n"
          ],
          "name": "stdout"
        },
        {
          "output_type": "display_data",
          "data": {
            "image/png": "[encoded data removed]",
            "text/plain": [
              "<matplotlib.figure.Figure at 0x7f79a18e88d0>"
            ]
          },
          "metadata": {
            "tags": []
          }
        }
      ]
    },
    {
      "metadata": {
        "id": "7KlLL7rbGJg_",
        "colab_type": "code",
        "colab": {
          "base_uri": "https://localhost:8080/",
          "height": 54
        },
        "outputId": "1dcd330e-d795-4d02-b68e-d56559c8111b"
      },
      "cell_type": "code",
      "source": [
        "print('Test Data processing')\n",
        "start = time.time()\n",
        "\n",
        "tweets_test_df = test_preprocess(test_df)\n",
        "ID_test = tweets_test_df.loc[:, 'id']\n",
        "X_new = tweets_test_df.loc[:, 'tweet']\n",
        "\n",
        "end = time.time()\n",
        "print(end-start)"
      ],
      "execution_count": 17,
      "outputs": [
        {
          "output_type": "stream",
          "text": [
            "Test Data processing\n",
            "2.807187080383301\n"
          ],
          "name": "stdout"
        }
      ]
    },
    {
      "metadata": {
        "id": "I0LSlkNsNgP3",
        "colab_type": "code",
        "colab": {
          "base_uri": "https://localhost:8080/",
          "height": 36
        },
        "outputId": "8055f1ff-6205-475a-e5cb-ba3214414e28"
      },
      "cell_type": "code",
      "source": [
        "print('Test Data prediction')\n",
        "test_data_prediction(X_new, ID_test)"
      ],
      "execution_count": 18,
      "outputs": [
        {
          "output_type": "stream",
          "text": [
            "Test Data prediction\n"
          ],
          "name": "stdout"
        }
      ]
    },
    {
      "metadata": {
        "id": "dG7BrXQTWfWt",
        "colab_type": "code",
        "colab": {}
      },
      "cell_type": "code",
      "source": [
        ""
      ],
      "execution_count": 0,
      "outputs": []
    }
  ]
}